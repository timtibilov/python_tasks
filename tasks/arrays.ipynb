{
 "cells": [
  {
   "attachments": {},
   "cell_type": "markdown",
   "metadata": {},
   "source": [
    "# Задания на массивы (`list`)"
   ]
  },
  {
   "attachments": {},
   "cell_type": "markdown",
   "metadata": {},
   "source": [
    "Задание 1.\n",
    "\n",
    "Посчитать сумму значений на главной и побочной диагоналях матрицы. На вход подается матрица размером NxN, на выходе нужно вернуть одно число - сумма элементов на диагоналях."
   ]
  },
  {
   "cell_type": "code",
   "execution_count": null,
   "metadata": {},
   "outputs": [],
   "source": [
    "from typing import List\n",
    "\n",
    "def matrix_diagonal_sum(matrix: List[List[int]]) -> int:\n",
    "    # your code\n",
    "    pass"
   ]
  },
  {
   "attachments": {},
   "cell_type": "markdown",
   "metadata": {},
   "source": [
    "Задание 2.\n",
    "\n",
    "Посчитать префиксную сумму для полученного на вход массива. Префиксная сумма - сумма элементов от 0 до i для i-й позиции."
   ]
  },
  {
   "cell_type": "code",
   "execution_count": null,
   "metadata": {},
   "outputs": [],
   "source": [
    "def prefix_sum(array: List[int]) -> List[int]:\n",
    "    # your code\n",
    "    pass"
   ]
  },
  {
   "attachments": {},
   "cell_type": "markdown",
   "metadata": {},
   "source": [
    "Задание 3.\n",
    "\n",
    "Посчитать произведение матрицы на матрицу. На вход приходят матрица размера NxM и матрица размером MxK, на выходе должна получится матрица размером NxK - результат произведения."
   ]
  },
  {
   "cell_type": "code",
   "execution_count": null,
   "metadata": {},
   "outputs": [],
   "source": [
    "def matrix_mult(first: List[List[int]], second: List[List[int]]) -> List[List[int]]:\n",
    "    # your code\n",
    "    pass"
   ]
  },
  {
   "attachments": {},
   "cell_type": "markdown",
   "metadata": {},
   "source": [
    "Задание 4.\n",
    "\n",
    "Посчитать количество непрерывных отрезков разных элементов. Для массива вида `[5, 5, 4, 3, 3, 3, 1, 3]` ответ будет `5` - два повторения элементов `5`, одна `4`, три `3`, затем одна `1` и снова одна `3`."
   ]
  },
  {
   "cell_type": "code",
   "execution_count": null,
   "metadata": {},
   "outputs": [],
   "source": [
    "def continius_numbers(array: List[int]) -> int:\n",
    "    # your code\n",
    "    pass"
   ]
  },
  {
   "attachments": {},
   "cell_type": "markdown",
   "metadata": {},
   "source": [
    "Задание 5.\n",
    "\n",
    "На вход приходит массив из нулей и единиц. Требуется посчитать размер максимального подмассива из единиц для заданного массива."
   ]
  },
  {
   "cell_type": "code",
   "execution_count": null,
   "metadata": {},
   "outputs": [],
   "source": [
    "def continius_ones(array: List[int]) -> int:\n",
    "    # your code\n",
    "    pass"
   ]
  },
  {
   "attachments": {},
   "cell_type": "markdown",
   "metadata": {},
   "source": [
    "Задание 6.\n",
    "\n",
    "На вход приходит массив из нулей и единиц. Требуется посчитать размер максимального подмассива из единиц для заданного массива, если из массива __нужно__ удалить __один__ элемент.\n",
    "\n",
    "Пример:\n",
    "1. Для массива `[1, 1, 0, 1, 1]` ответом будет `4`, так как можно удалить нуль посередине.\n",
    "\n",
    "2. Для массива `[1, 1, 1, 1]` ответом будет `3`, так как можно удалить любую из единиц."
   ]
  },
  {
   "cell_type": "code",
   "execution_count": null,
   "metadata": {},
   "outputs": [],
   "source": [
    "def continius_ones_with_delete(array: List[int]) -> int:\n",
    "    # your code\n",
    "    pass"
   ]
  },
  {
   "attachments": {},
   "cell_type": "markdown",
   "metadata": {},
   "source": [
    "Задание 7.\n",
    "\n",
    "На вход приходит массив из нулей и единиц. Требуется в текущий массив вставить единицу между каждой парой соседних нулей. Новый массив создавать __нельзя__."
   ]
  },
  {
   "cell_type": "code",
   "execution_count": null,
   "metadata": {},
   "outputs": [],
   "source": [
    "def insert_ones(array: List[int]) -> int:\n",
    "    # your code\n",
    "    pass"
   ]
  },
  {
   "attachments": {},
   "cell_type": "markdown",
   "metadata": {},
   "source": [
    "Задание 8.\n",
    "\n",
    "Требуется реализовать алгоритм слияния двух отсортированных массивов в один отсортированный (метод `merge` сортировки слиянием)."
   ]
  },
  {
   "cell_type": "code",
   "execution_count": null,
   "metadata": {},
   "outputs": [],
   "source": [
    "def merge(first: List[int], second: List[int]) -> List[int]:\n",
    "    # your code\n",
    "    pass"
   ]
  }
 ],
 "metadata": {
  "language_info": {
   "name": "python"
  },
  "orig_nbformat": 4
 },
 "nbformat": 4,
 "nbformat_minor": 2
}
